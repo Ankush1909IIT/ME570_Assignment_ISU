{
 "cells": [
  {
   "cell_type": "markdown",
   "metadata": {
    "id": "uBx7prSvykmg"
   },
   "source": [
    "# Introduction\n",
    "\n",
    "This homework deals with CUDA programming using ping-pong to compute the maximum value of a 2D Matrix. The code skeleton provides the outline to code the GPU. Create a submission file with the answers to the questions and the required graphs."
   ]
  },
  {
   "cell_type": "markdown",
   "metadata": {
    "id": "Sl7nAvZFyxGr"
   },
   "source": [
    "# Reductions\n",
    "1. Complete the indexing part of the array in the CUDA kernel to correctly index the input array based on 2 different patterns. Pattern 1 to access 4 adjacent elements in an array. Pattern 2 to access the 4 elements located at a distance n/2 apart as shown in the figure below. (10 + 10)\n",
    "\n",
    "![Patterns.png](data:image/png;base64,iVBORw0KGgoAAAANSUhEUgAAAegAAAEUCAYAAADgAKVuAAAAAXNSR0IArs4c6QAAAARnQU1BAACxjwv8YQUAAAAJcEhZcwAADsQAAA7EAZUrDhsAAAAHdElNRQfiAw0WFge4xU2SAAAAB3RFWHRBdXRob3IAqa7MSAAAAAx0RVh0RGVzY3JpcHRpb24AEwkhIwAAAAp0RVh0Q29weXJpZ2h0AKwPzDoAAAAJdEVYdFNvZnR3YXJlAF1w/zoAAAAHdEVYdFNvdXJjZQD1/4PrAAAACHRFWHRDb21tZW50APbMlr8AAAAGdEVYdFRpdGxlAKju0icAABvqSURBVHhe7Z0tbx3XFob7E1IWEinSzQ8wKLAU4LKahVgyTGmRQUGkkuIi00pGRiZhVkFQgZmlWC0LcNX8gEqBhb53Tc/qnTvd5+tda9adZD+PtJT4zJzZ+7Fnv2tmjtt89gAAAACLgwYNAACwQGjQAAAAC4QGDQAAsEBo0AAAAAuEBg0AALBAaNAAAAALhAYNAACwQGjQAAAAC4QGDQAAsEBo0AAAAAuEBg0AALBAaNAAAAALhAYNAACwQGjQAAAAC4QGDQAAsEBo0AAAAAuEBg0AALBAaNAAAAALpKRBf/jw4eH8/Pzh+vr64eeff561Li8vHy4uLprbMuvNmzc4BQonvdzp/fv3qxVWw83NzTBua07ZZeNcXV01t2WWjYGTXjjp5U6bKGnQtrA/++wziqISa9vizubo6Kg5D4qi9NpESYO+v78fJmJXDL///vusdXJy8nB4eNjclll+0YGTVjjp5U52J13Jq1evhnFbc8ouG+fs7Ky5LbNsDJz0wkkvd9pESYO2ydhE7LZ+br7++uuHL7/8cvXVfOAUAyedSqcx33///TBuBTaOjTc3OMXASWcXpxJjQjIGTjo45UHwx8BJp1enEmNCMgZOOjjlQfDHwEmnV6cSY0IyBk46OOVB8MfASadXpxJjQjIGTjo45UHwx8BJp1enEmNCMgZOOjjlQfDHwEmnV6cSY0IyBk46OOVB8MfASadXpxJjQjIGTjo45UHwx8BJp1enEmM5UGzye/7fkvYOydPTv8ax+vbb1YvbIfhj4KTzUTXo16//Wltv365e2A0bh+DX2NvJMtb2t3r+fPXibvBz0tnFqcRYChSbuDXMuRv0mCdPVn/ZDsEfAyedj6ZBW3O2wLeiQX8cTnv+rPg56eziVGIsB0plg7YwsbvpHSH4Y+Ck89E0aIcGPfBROO1xk2Lwc9LZxanEePEN2prznicmwR8DJx0adB69Bn8Tew8/p0U5lRgvukH7Y7g9Ifhj4KRDg86j1+D/B+L3gJ+Tzi5OJcZSoNjEvfZ49Lx3SFp4jMfaMUgI/hg46Xw0Ddp/Qcxrj4ttG4fg19jbyW6EbH8vfk6LcSoxJiRj4KSDUx69hmQWOOn06lRiTEjGwEkHpzwI/hg46fTqVGJMSMbASQenPAj+GDjp9OpUYkxIxsBJB6c8CP4YOOn06lRiTEjGwEkHpzwI/hg46fTqVGJMSMbASQenPAj+GDjp9OpUYkxIxsBJB6c8CP4YOOn06lRiTEjGwEkHpzwI/hg46fTqVGJMSMbASQenPAj+GDjp9OpUYkxIxsBJB6c8CP4YOOn06lRifHt7O0zk4OBgCLA56/Hjxw+PHj1qbsusw8NDnAKFk17udHFxsVphNbx48WIYtzWn7LJxnj592tyWWTYGTnrhpJc7baKkQd/d3Q0TOT4+Hu4y5qxnz54NQdnallknJyc4BQonvdzp8vJytcJqOD09HcZtzSm7bBy7qGptyywbAye9cNLLnTZR0qB5zBgDJx2c8uDRaQycdHp1KjEmJGPgpINTHgR/DJx0enUqMSYkY+Ckg1MeBH8MnHR6dSoxJiRj4KSDUx4EfwycdHp1KjEmJGPgpINTHgR/DJx0enUqMSYkY+Ckg1MeBH8MnHR6dSoxJiRj4KSDUx4EfwycdHp1KjEmJGPgpINTHgR/DJx0enUqMd47UN6+te/Sf2sP5JC0cb79dvXFdgj+GDjp0KDzwCkGTjq7OJUYhwLl9PTh4fXr1RfbkULSxrCiQeMUgAadh41D8GvgFGNJTiXGUqA8f27fqb2aprF3SFrzt+Z8fk6DxikEDToPG4fg18ApxpKcSoxDgWJNc4/GuXdIPnny1580aJyC0KDzsHEIfg2cYizJqcQ4FCh7Ns69QnL6WbeVjbcDBH8MnHRo0HngFAMnnV2cSoz3DhRrkjZxK7/D3RE5JLmDxikIDToPG4fg18ApxpKcSowJyRg46eCUB8EfAyedXp1KjAnJGDjp4JQHwR8DJ51enUqMCckYOOnglAfBHwMnnV6dSowJyRg46eCUB8EfAyedXp1KjAnJGDjp4JQHwR8DJ51enUqMCckYOOnglAfBHwMnnV6dSowJyRg46eCUB8EfAyedXp1KjAnJGDjp4JQHwR8DJ51enUqMCckYOOnglAfBHwMnnV6dSowJyRg46eCUB8EfAyedXp1KjN+9ezdM5Pz8fAiVOev4+Pjh4OCguS2zrq6ucAoUTnq50/X19WqF1XB2djaM25pTdtk4L1++bG7LLBsDJ71w0sudNlHSoG9uboaJUBSVV3bRUcnR0VFzHhRF6bWJkgZ9f38/TMSu/O3x3Jx1cnLycHh42NyWWX7RgZNWOOnlTm/evFmtsBpevXo1jNuaU3bZOHbH3tqWWf5UoLUtu3DS61N22kRJg7bJ2ETstn5u+GxTB6cYfAadh43DZ5saOMVYklOJMSEZAycdnPIg+GPgpNOrU4kxIRkDJx2c8iD4Y+Ck06tTiTEhGQMnHZzyIPhj4KTTq1OJMSEZAycdnPIg+GPgpNOrU4kxIRkDJx2c8iD4Y+Ck06tTiTEhGQMnHZzyIPhj4KTTq1OJMSEZAycdnPIg+GPgpNOrU4kxIRkDJx2c8iD4Y+Ck06tTiTEhGQMnHZzyIPhj4KTTq1OJMSEZAycdnPIg+GPgpNOrU4kxIRkDJx2c8iD4Y+Ck06tTiTEhGQMnHZzyIPhj4KTTq1OJMSEZAycdnPIg+GPgpNOrU4kxIRkDJx2c8iD4Y+Ck06tTiTEhGQMnHZzyIPhj4KTTq1OJMSEZAycdnPIg+GPgpNOrU4kxIRkDJx2c8iD4Y+Ck06tTiTEhGQMnHZzyIPhj4KTTq1OJMSEZAycdnPIg+GPgpNOrU4kxIRkDJx2c8iD4Y+Ck06tTiTEhGQMnHZzyIPhj4KTTq1OJMSEZAycdnPIg+GPgpNOrU4kxIRkDJx2c8iD4Y+Ck06tTifHt7e0wkYODgyHA5qzHjx8/PHr0qLktsw4PD3EKFE56udPFxcVqhdXw4sWLYdzWnLLLxnn69GlzW2bZGDjphZNe7rSJkgZ9d3c3TOT4+Hi4y5iznj17NgRla1tmnZyc4BQonPRyp8vLy9UKq+H09HQYtzWn7LJx7KKqtS2zbAyc9MJJL3faREmD5jFjDJx0cMqDR6cxcNLp1anEmJCMgZMOTnkQ/DFw0unVqcSYkIyBkw5OeRD8MXDS6dWpxJiQjIGTDk55EPwxcNLp1anEmJCMgZMOTnkQ/DFw0unVqcSYkIyBkw5OeRD8MXDS6dWpxJiQjIGTDk55EPwxcNLp1anEmJCMgZMOTnkQ/DFw0unVqcSYkIyBkw5OeRD8MXDS6dWpxJiQjIGTDk55EPwxcNLp1anEmJCMgZMOTnkQ/DFw0unVqcSYkIyBkw5OeRD8MXDS6dWpxJiQjIGTDk55EPwxcNLp1anEmJCMgZMOTnkQ/DFw0unVqcSYkIyBkw5OeRD8MXDS6dWpxJiQjIGTDk55EPwxcNLp1anEmJCMgZMOTnkQ/DFw0unVqcSYkIyBkw5OeRD8MXDS6dWpxJiQjIGTDk55EPwxcNLp1anEmJCMgZMOTnkQ/DFw0unVqcSYkIyBkw5OeRD8MXDS6dWpxJiQjIGTDk55EPwxcNLp1anEmJCMgZMOTnkQ/DFw0unVqcSYkIyBkw5OeRD8MXDS6dWpxPjdu3fDRM7Pz4dQmbOOj48fDg4Omtsy6+rqCqdA4aSXO11fX69WWA1nZ2fDuK05ZZeN8/Lly+a2zLIxcNILJ73caRMlDfrm5maYCEVReWUXHZUcHR0150FRlF6bKGnQ9/f3w0Tsyt8ez81ZJycnD4eHh81tmeUXHThphZNe7vTmzZvVCqvh1atXw7itOWWXjWN37K1tmeVPBVrbsgsnvT5lp02UNGibjE3Ebuvnhs82dXCKwWfQedg4fLapgVOMJTmVGBOSMXDSwSkPgj8GTjq9OpUYE5IxcNLBKQ+CPwZOOr06lRgTkjFw0sEpD4I/Bk46vTqVGBOSMXDSwSkPgj8GTjq9OpUYE5IxcNLBKQ+CPwZOOr06lRgTkjFw0sEpD4I/Bk46vTqVGBOSMXDSwSkPgj8GTjq9OpUYE5IxcNLBKY+9Q9L+T2e2v9Xz56sXd8PGIfg1ZCf7GfFzWpRTiTEhGQMnHZzyCIXkkyerv+yGjUPwa0hOdjF1ekqD/g9LcioxJiRj4KSDUx5SSNr+Vq9fr17YDRuH4NeQnOwC6u1bGvR/WJJTiTEhGQMnHZzyCIWkBf8eTdrGIfg19nayO2f72dCgB5bkVGJMSMbASQenPEIh6U1gR2wcgl9jbye7e7b9vexntSP8nHR2cSoxJiRj4KSDUx57h6QFve1vtUfoGzYOwa8hO3EHPbAkpxJjQjIGTjo45dFrSGaBk06vTiXGhGQMnHRwyoPgj4GTTq9OJcaEZAycdHDKg+CPgZNOr04lxoRkDJx0cMqD4I+Bk06vTiXGhGQMnHRwyoPgj4GTTq9OJcaEZAycdHDKg+CPgZNOr04lxoRkDJx0cMqD4I+Bk06vTiXGhGQMnHRwyoPgj4GTTq9OJcaEZAycdHDKg+CPgZNOr04lxoRkDJx0cMqD4I+Bk06vTiXGt7e3w0QODg6GAJuzHj9+/PDo0aPmtsw6PDzEKVA46eVOFxcXqxVWw4sXL4ZxW3PKLhvn6dOnzW2ZZWPgpBdOernTJkoa9N3d3TCR4+Pj4S5jznr27NkQlK1tmXVycoJToHDSy50uLy9XK6yG09PTYdzWnLLLxrGLqta2zLIxcNILJ73caRMlDZrHjDFw0sEpDx6dxsBJp1enEmNCMgZOOjjlQfDHwEmnV6cSY0IyBk46OOVB8MfASadXpxJjQjIGTjo45UHwx8BJp1enEmNCMgZOOjjlQfDHwEmnV6cSY0IyBk46OOVB8MfASadXpxJjQjIGTjo45UHwx8BJp1enEmNCMgZOOjjlQfDHwEmnV6cSY0IyBk46OOVB8MfASadXpxJjQjIGTjo45UHwx8BJp1enEmNCMgZOOjjlQfDHwEmnV6cSY0IyBk46OOVB8MfASadXpxJjQjIGTjo45UHwx8BJp1enEmNCMgZOOjjlQfDHwEmnV6cSY0IyBk46OOVB8MfASadXpxJjQjIGTjo45UHwx8BJp1enEmNCMgZOOjjlQfDHwEmnV6cSY0IyBk46OOVB8MfASadXpxJjQjIGTjo45UHwx8BJp1enEmNCMgZOOjjlQfDHwEmnV6cSY0IyBk46OOVB8MfASadXpxJjQjIGTjo45UHwx8BJp1enEmNCMgZOOjjlQfDHwEmnV6cSY0IyBk46OOVB8MfASadXpxLjd+/eDRM5Pz8fQmXOOj4+fjg4OGhuy6yrqyucAoWTXu50fX29WmE1nJ2dDeO25pRdNs7Lly+b2zLLxsBJL5z0cqdNlDTom5ubYSIUReWVXXRUcnR01JwHRVF6baKkQd/f3w8TsSt/ezw3Z52cnDwcHh42t2WWX3TgpBVOernTmzdvViushlevXg3jtuaUXTaO3bG3tmWWPxVobcsunPT6lJ02UdKgbTI2Ebutnxs+29TBKQafQedh4/DZpgZOMZbkVGJMSMbASQenPAj+GDjp9OpUYkxIxsBJB6c8CP4YOOn06lRiTEjGwEkHpzwI/hg46fTqVGJMSMbASQenPAj+GDjp9OpUYkxIxsBJB6c8CP4YOOn06lRiTEjGwEkHpzwI/hg46fTqVGJMSMbASQenPAj+GDjp9OpUYkxIxsBJB6c8CP4YOOn06lRiTEjGwEkHpzwI/hg46fTqVGJMSMbASQenPAj+GDjp9OpUYkxIxsBJB6c8CP4YOOn06lRiTEjGwEkHpzwI/hg46fTqVGJMSMbASQenPAj+GDjp9OpUYkxIxsBJB6c8CP4YOOn06lRiTEjGwEkHpzwI/hg46fTqVGJMSMbASQenPAj+GDjp9OpUYkxIxsBJB6c8CP4YOOn06lRiTEjGwEkHpzwI/hg46fTqVGJMSMbASQenPAj+GDjp9OpUYkxIxsBJB6c8CP4YOOn06lRiTEjGwEkHpzwI/hg46fTqVGJMSMbASQenPAj+GDjp9OpUYkxIxsBJB6c8CP4YOOn06lRifHt7O0zk4OBgCLA56/Hjxw+PHj1qbsusw8NDnAKFk17udHFxsVphNbx48WIYtzWn7LJxnj592tyWWTYGTnrhpJc7baKkQd/d3Q0TOT4+Hu4y5qxnz54NQdnallknJyc4BQonvdzp8vJytcJqOD09HcZtzSm7bBy7qGptyywbAye9cNLLnTZR0qB5zBgDJx2c8uDRaQycdHp1KjEmJGPgpINTHgR/DJx0enUqMSYkY+Ckg1MeBH8MnHR6dSoxJiRj4KSDUx4EfwycdHp1KjEmJGPgpINTHgR/DJx0enUqMSYkY+Ckg1MeBH8MnHR6dSoxJiRj4KSDUx4EfwycdHp1KjEmJGPgpINTHgR/DJx0enUqMSYkY+Ckg1MeBH8MnHR6dSoxJiRj4KSDUx4EfwycdHp1KjEmJGPgpINTHgR/DJx0enUqMSYkY+Ckg1MeBH8MnHR6dSoxJiRj4KSDUx4EfwycdHp1KjEmJGPgpINTHgR/DJx0enUqMSYkY+Ckg1MeBH8MnHR6dSoxJiRj4KSDUx4EfwycdHp1KjEmJGPgpINTHgR/DJx0enUqMSYkY+Ckg1MeBH8MnHR6dSoxJiRj4KSDUx4EfwycdHp1KjEmJGPgpINTHgR/DJx0enUqMSYkY+Ckg1MeBH8MnHR6dSoxJiRj4KSDUx4EfwycdHp1KjEmJGPgpINTHgR/DJx0enUqMSYkY+Ckg1MeBH8MnHR6dSoxfvfu3TCR8/PzIVTmrOPj44eDg4Pmtsy6urrCKVA46eVO19fXqxVWw9nZ2TBua07ZZeO8fPmyuS2zbAyc9MJJL3faREmDvrm5GSZCUVRe2UVHJUdHR815UBSl1yZKGvSff/45NGm7k7bHc3PW3d3dw+3tbXNbZt3f3+MUKJz0cqcPHz6sVlgN79+/H8ZtzSm7bJxff/21uS2zbAyc9MJJL3faREmDBgAAgP2gQQMAACwQGjQAAMACoUEDAAAsEBo0AADAAqFBAwAALBAaNAAAwAKhQQMAACwQGjQAAMACoUEDAAAsEBo0AADAAqFBAwAALBAaNAAAwAKhQc/A559/3vxnxb766qvh3/KFGD/++OPf32OAOfjll1/+sX6t7Lw7PT3d+q8QQRv7vn3zzTcP//rXv/7+npKL6yHhZsBPvC+++GI4+azGJ6S9/scff6z21rAT3Y5lYbEOG9f2sbD5FPjtt9/+dvICmANfX1a+hq3GF9/WaKL88MMPw7HsorPFLuv8Y+G77777+3vn2Tj+ftp2+F9IuBnwE256lf3TTz/9vc0WZgRfuHaSr8O2tebxMWLfO1/M7mUFMAfjBj1l3Giia8sb9Lo82GWdfyzYRYZ97+xC27EbFXvdv5+fys1EFiTcDPjJ1lq8vrjtjjrCLgv3U2rQ5mEN2h+F2ddWAHPg62vdOWZ3gLYtehfdU4NehzVs/15Hb1w+NUi4GfCTrdUY1y18O0mteU8fhU9P2PH7W9V6DDyuaaDYFayN0Rq39RjeXrd9bB5W/r7xBYfP0Y8xPr412XXH3oR9b8bvsWNZAczBunXq+DqYNk57n62x8aNb28eeAI3x97fK1sp4/FaN70IN+7o17rrPdj0jjPHvdIzzYbyPzWd8p2vb7LUs/Lj2fYH/QsLNgJ9srRN4/JjbGb9mi9NOfr9Ct7Lm5NgjoPF2W1j2tZc1Mdvf/u6Lzvb17ePPumzf1nF8XNs2baQeLP6nv8/+dDxcbEF7Y7Zj+VhW9p4IfhyAORg3yBb+JGx8HvtrVr7m/Py3Gjdpa5zj7b7uraxJ7rLOHdvX13orP6YX5YbtY9t8HY/Hd3wf9xqvdfvaKqNJm4sfj18W+19IuBnYdPLaYrFttoAca5p24k/3t5PVjzW9YvYAGS+oKb7A1i2i8QIcM27c0ytaX9BWts+0gRs+NytbzOPxxxcjkc+b/BgAczA+h1t4Yx2vHbsgtfU9Xau+5u09U8YXvC22rXNbf94wp3fp48Y9zQBf+1atBm5M9/G1bn/6NnOOMs65Vp70DAk3A36yTReFNWLfNl1M6/AgmB5r28I1fBFN32vY4rVt4wuFMeuO74FiC3/dYvL32j6tJryu+e+Dvd8KYA78HJ6eY3bOe8O183vajFvYPuvO12iD9kyZXmQ7647v2bBLfrQa+PhCO4J9P1sXO/AXJNwM+IlrjchOciu/kt33RPRFMm2y2xause69hi9sm5fPcVzeRK3GbAsUY9vcdjnGNlpzA8jCz2E/j738NVs3+zyO9fdN2bYWtq0l/1x4/Ih6XN787O9j7Gt7vZUNzrZ9bJtVhPHTBe6e/wkJNwN+4o7LTkA7GTctCFvw1rx9cVl5Y5++b9vCNTYtMA+GbTW9w96luW6b2y7H2IbPD2AO/Byelq0HW6Pr7pytydjFr611X8O+Dq2mbFsL29bS+NibanpT4O9rZYOzbR8/too/2raMi3zc9SlDws2An7ibTv4xdnL6le66mh5r28I1Ni0wD4ZN72+xS3PdNrddjrENe78VwBz4ObzPOWYNZ/ykrFVTtq2FbWvJ1/i+a2lTNjjb9rFtVgrjz503zaF3SLgZ2PfE8+Zsj6um71m3SOxre33dwjU2LTAPhk3vb7EtUIxtc9vlGNuw91sBzIGfw7ueY+PPme28nt4RrjvWtrWwbS35Gt93LW3KBmfbPrbNal/Gzdn+Dush4WbAT75NJ/8Y37/1Gcy6RbJt4RqbFpj/kpjVLr/o4mwLFGPb3HY5xjZ87gBz4OfwrueY7z/9SMhZd6xta2HbWvLfJbGL/H3YlA3Otn1sm9U+0Jz3g4SbAT8BN538Y1onrDVrX7ytY/nCtVr3yxW+wNb9Upr/Ipj9OW3S9rWNP/1t822BYvjcaNDwsTJeX7vg+08/T7V15L/I1TqWr4V1jX3bOrfj+2N1+9x7uo/NxV6fru//R4OmOe8PCTcDfhJuOvnHWAP199hCtYXhi86baOtY/mjc9vX3jBfieEHYcaxssTq2eH0c38eO42Na2RX6mP9Xg7aQs+N5+fzGr+36n64BbMPPYatdGa+b8Xlqa8zX6hRbr/4e28feM70b3medW/nY/j6r6SN3n9umjNq2jx97Vzxr3GNdTS8meoYGPQN+4u5zolmzGi8oa0jWcPwRVmuR2KKzE9rfY3+fYscdL4xpE7MrbrtAGIeLzcPGb13lenOdNu4xczRod9hUm+YEsA9+Dk+b5SZsLdkF8Hi92de2Tv0uuoWtyfHan66LXda57WNjjY/jF+St7PDjTRv3GN8nu0Fvq01z6g0aNAAAwAKhQQMAACwQGjQAAMACoUEDAAAsEBo0AADAAqFBAwAALBAaNAAAwAKhQQMAACwQGjQAAMACoUEDAAAsEBo0AADAAqFBAwAALBAaNAAAwOJ4ePg3qYOD1aBCn+4AAAAASUVORK5CYII=)\n",
    "\n"
   ]
  },
  {
   "cell_type": "code",
   "execution_count": 1,
   "metadata": {
    "colab": {
     "base_uri": "https://localhost:8080/"
    },
    "executionInfo": {
     "elapsed": 15320,
     "status": "ok",
     "timestamp": 1603920205403,
     "user": {
      "displayName": "Aditya Balu",
      "photoUrl": "",
      "userId": "00240964590008989444"
     },
     "user_tz": 300
    },
    "id": "y7cnV6_DxH73",
    "outputId": "91a99d95-7ea2-401e-9318-88c7783f27e6"
   },
   "outputs": [
    {
     "name": "stdout",
     "output_type": "stream",
     "text": [
      "-- The C compiler identification is GNU 9.4.0\n",
      "-- The CXX compiler identification is GNU 9.4.0\n",
      "-- Detecting C compiler ABI info\n",
      "-- Detecting C compiler ABI info - done\n",
      "-- Check for working C compiler: /usr/bin/cc - skipped\n",
      "-- Detecting C compile features\n",
      "-- Detecting C compile features - done\n",
      "-- Detecting CXX compiler ABI info\n",
      "-- Detecting CXX compiler ABI info - done\n",
      "-- Check for working CXX compiler: /usr/bin/c++ - skipped\n",
      "-- Detecting CXX compile features\n",
      "-- Detecting CXX compile features - done\n",
      "-- Performing Test CMAKE_HAVE_LIBC_PTHREAD\n",
      "-- Performing Test CMAKE_HAVE_LIBC_PTHREAD - Failed\n",
      "-- Looking for pthread_create in pthreads\n",
      "-- Looking for pthread_create in pthreads - not found\n",
      "-- Looking for pthread_create in pthread\n",
      "-- Looking for pthread_create in pthread - found\n",
      "-- Found Threads: TRUE  \n",
      "-- Found CUDA: /usr/local/cuda-11.0 (found version \"11.0\") \n",
      "-- Configuring done\n",
      "-- Generating done\n",
      "-- Build files have been written to: /home/exouser/Desktop/Assignment_Codes/HW5/build\n",
      "[ 50%] Building NVCC (Device) object CMakeFiles/matrixmax.dir/matrixmax_generated_MatrixMax.cu.o\n",
      "[100%] Linking CXX executable matrixmax\n",
      "[100%] Built target matrixmax\n"
     ]
    },
    {
     "name": "stderr",
     "output_type": "stream",
     "text": [
      "CMake Warning:\n",
      "  Manually-specified variables were not used by the project:\n",
      "\n",
      "    BUILD_DATASET_GENERATOR\n",
      "    BUILD_DESCRIPTION\n",
      "    BUILD_LIBGPUTK_LIBRARY\n",
      "    BUILD_SOLUTION\n",
      "    BUILD_TEMPLATE\n",
      "\n",
      "\n"
     ]
    }
   ],
   "source": [
    "%%bash\n",
    "rm -rf build\n",
    "mkdir build\n",
    "cd build\n",
    "cmake -DBUILD_DESCRIPTION=OFF \\\n",
    "      -DBUILD_DATASET_GENERATOR=ON \\\n",
    "      -DBUILD_LIBGPUTK_LIBRARY=ON \\\n",
    "      -DBUILD_SOLUTION=ON \\\n",
    "      -DBUILD_TEMPLATE=OFF \\\n",
    "      -DCMAKE_BUILD_TYPE=Release ../\n",
    "make"
   ]
  },
  {
   "cell_type": "code",
   "execution_count": 3,
   "metadata": {
    "id": "63cxe8_t07WJ"
   },
   "outputs": [
    {
     "name": "stdout",
     "output_type": "stream",
     "text": [
      "-- Configuring done\n",
      "-- Generating done\n",
      "-- Build files have been written to: /home/exouser/HW5/build\n",
      "[ 50%] Linking CXX executable matrixmax\n",
      "[100%] Built target matrixmax\n",
      "Created a 8 x 8 Matrix.\n",
      "Maximum value from CPU computation is : 9.98436\n",
      "5.56419 5.56419 5.56419 5.56419 \n",
      "5.56419 5.56419 5.56419 5.56419 \n",
      "5.56419 5.56419 5.56419 5.56419 \n",
      "5.56419 5.56419 5.56419 5.56419 \n",
      "\n",
      "5.56419 5.56419 \n",
      "5.56419 5.56419 \n",
      "\n",
      "5.56419 \n",
      "\n",
      "Maximum value from GPU computation is : 5.56419\n"
     ]
    }
   ],
   "source": [
    "%%bash\n",
    "cd 'build'\n",
    "make\n",
    "./matrixmax"
   ]
  },
  {
   "cell_type": "markdown",
   "metadata": {
    "id": "BEJoLKWTFs9i"
   },
   "source": [
    "2. Time the two different access patterns compared to the CPU time for different matrix sizes. (10)\n"
   ]
  },
  {
   "cell_type": "code",
   "execution_count": null,
   "metadata": {
    "id": "qiwzxS9d1Wx0"
   },
   "outputs": [],
   "source": []
  },
  {
   "cell_type": "markdown",
   "metadata": {
    "id": "eDwS0xdOFxgk"
   },
   "source": [
    "3. Change the GPU block and grid size and find the configuration that is the fastest in your GPU. (10)"
   ]
  },
  {
   "cell_type": "code",
   "execution_count": null,
   "metadata": {
    "id": "CRXklnFlF5Bd"
   },
   "outputs": [],
   "source": []
  },
  {
   "cell_type": "markdown",
   "metadata": {
    "id": "JIYxY7xVF_s2"
   },
   "source": [
    "4. Create a version of the code that works on non-power-of-two square matrices. (10)"
   ]
  },
  {
   "cell_type": "code",
   "execution_count": null,
   "metadata": {
    "id": "g1MvkxovGCsV"
   },
   "outputs": [],
   "source": []
  },
  {
   "cell_type": "markdown",
   "metadata": {
    "id": "bgOqDv-lGLJA"
   },
   "source": [
    "5. Extra Credit: Create a version of the code that works on any general rectangular matrix. (10)"
   ]
  },
  {
   "cell_type": "code",
   "execution_count": null,
   "metadata": {
    "id": "HH4HHJT_GMJt"
   },
   "outputs": [],
   "source": []
  },
  {
   "cell_type": "markdown",
   "metadata": {
    "id": "OLJ6iOg2GMxk"
   },
   "source": [
    "6. Extra Credit: Use the GPU shared memory to speed up the computation. (10)"
   ]
  },
  {
   "cell_type": "code",
   "execution_count": null,
   "metadata": {
    "id": "Z4q8LrwQGQr9"
   },
   "outputs": [],
   "source": []
  }
 ],
 "metadata": {
  "accelerator": "GPU",
  "colab": {
   "authorship_tag": "ABX9TyMuK4GXRzQdWgdQBCadwXZi",
   "name": "HW4.ipynb",
   "provenance": []
  },
  "kernelspec": {
   "display_name": "Python 3 (ipykernel)",
   "language": "python",
   "name": "python3"
  },
  "language_info": {
   "codemirror_mode": {
    "name": "ipython",
    "version": 3
   },
   "file_extension": ".py",
   "mimetype": "text/x-python",
   "name": "python",
   "nbconvert_exporter": "python",
   "pygments_lexer": "ipython3",
   "version": "3.9.7"
  }
 },
 "nbformat": 4,
 "nbformat_minor": 4
}
